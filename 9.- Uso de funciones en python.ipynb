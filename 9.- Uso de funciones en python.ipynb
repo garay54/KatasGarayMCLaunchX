{
 "cells": [
  {
   "cell_type": "code",
   "execution_count": 37,
   "metadata": {},
   "outputs": [],
   "source": [
    "def informe_combustible(tanque1, tanque2, tanque3) :\n",
    "    promedio = prom_combus(tanque1, tanque2, tanque3)\n",
    "    return f\"\"\"Tanque 1=  {tanque1}, Tanque 2 = {tanque2}, Tanque 3 =  {tanque3}, Promedio = {promedio}\"\"\""
   ]
  },
  {
   "cell_type": "code",
   "execution_count": 38,
   "metadata": {},
   "outputs": [
    {
     "data": {
      "text/plain": [
       "'Tanque 1=  80, Tanque 2 = 70, Tanque 3 =  85, Promedio = 78.33333333333333'"
      ]
     },
     "execution_count": 38,
     "metadata": {},
     "output_type": "execute_result"
    }
   ],
   "source": [
    "informe_combustible(80,70,85)"
   ]
  },
  {
   "cell_type": "code",
   "execution_count": 39,
   "metadata": {},
   "outputs": [],
   "source": [
    "def prom_combus(tanque1, tanque2, tanque3):\n",
    "    promedio = (tanque1+tanque2+tanque3)/3\n",
    "    return promedio \n"
   ]
  },
  {
   "cell_type": "code",
   "execution_count": 41,
   "metadata": {},
   "outputs": [
    {
     "data": {
      "text/plain": [
       "'Tanque 1=  88, Tanque 2 = 76, Tanque 3 =  70, Promedio = 78.0'"
      ]
     },
     "execution_count": 41,
     "metadata": {},
     "output_type": "execute_result"
    }
   ],
   "source": [
    "informe_combustible(88,76,70)"
   ]
  },
  {
   "cell_type": "markdown",
   "metadata": {},
   "source": [
    "Ejercicio 2"
   ]
  },
  {
   "cell_type": "code",
   "execution_count": 46,
   "metadata": {},
   "outputs": [],
   "source": [
    "def reporte_mision(tiempo, destino,tanque1):\n",
    "    return f\"\"\"\n",
    "    Destino : {destino} \n",
    "    Tiempo de mision : {tiempo}\n",
    "    Combustible: {tanque1}\"\"\""
   ]
  },
  {
   "cell_type": "code",
   "execution_count": 47,
   "metadata": {},
   "outputs": [
    {
     "name": "stdout",
     "output_type": "stream",
     "text": [
      "\n",
      "    Destino : Mars \n",
      "    Tiempo de mision : 25\n",
      "    Combustible: 80\n"
     ]
    }
   ],
   "source": [
    "print(reporte_mision(25, \"Mars\", 80))"
   ]
  },
  {
   "cell_type": "code",
   "execution_count": 48,
   "metadata": {},
   "outputs": [],
   "source": [
    "def reporte_mision2(destino, *minutos , **tanques):\n",
    "    return f\"\"\"\n",
    "    Destino : {destino} \n",
    "    Tiempo de mision : {sum(minutos)} minutos\n",
    "    Combustible: {sum(tanques.values())}\"\"\""
   ]
  },
  {
   "cell_type": "code",
   "execution_count": 50,
   "metadata": {},
   "outputs": [
    {
     "name": "stdout",
     "output_type": "stream",
     "text": [
      "\n",
      "    Destino : Mars \n",
      "    Tiempo de mision : 76 minutos\n",
      "    Combustible: 500000\n"
     ]
    }
   ],
   "source": [
    "print(reporte_mision2(\"Mars\", 10, 15, 51, main=300000, external= 200000))"
   ]
  },
  {
   "cell_type": "code",
   "execution_count": 52,
   "metadata": {},
   "outputs": [
    {
     "name": "stdout",
     "output_type": "stream",
     "text": [
      "\n",
      "    destino: Mars\n",
      "    Tiempo total: 74 minutos\n",
      "    Combustible: 500000\n",
      "    main tank --> 300000 gallons left\n",
      "external tank --> 200000 gallons left\n",
      "\n"
     ]
    }
   ],
   "source": [
    "# Escribe tu nueva función\n",
    "\n",
    "def reporte_mision3(destino, *minutos, **Combustible):\n",
    "    main_report = f\"\"\"\n",
    "    destino: {destino}\n",
    "    Tiempo total: {sum(minutos)} minutos\n",
    "    Combustible: {sum(Combustible.values())}\n",
    "    \"\"\"\n",
    "    for tank_name, gallons in Combustible.items():\n",
    "        main_report += f\"{tank_name} tank --> {gallons} gallons left\\n\"\n",
    "    return main_report\n",
    "\n",
    "print(reporte_mision3(\"Mars\", 8, 11, 55, main=300000, external=200000))"
   ]
  }
 ],
 "metadata": {
  "interpreter": {
   "hash": "6395b4a33688d93f2d3d2144d2a622f1c7b53fa556508df9eb6bac4253fba3ec"
  },
  "kernelspec": {
   "display_name": "Python 3.8.8 ('base')",
   "language": "python",
   "name": "python3"
  },
  "language_info": {
   "codemirror_mode": {
    "name": "ipython",
    "version": 3
   },
   "file_extension": ".py",
   "mimetype": "text/x-python",
   "name": "python",
   "nbconvert_exporter": "python",
   "pygments_lexer": "ipython3",
   "version": "3.8.8"
  },
  "orig_nbformat": 4
 },
 "nbformat": 4,
 "nbformat_minor": 2
}
