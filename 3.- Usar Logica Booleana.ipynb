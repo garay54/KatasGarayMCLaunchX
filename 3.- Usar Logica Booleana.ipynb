{
 "cells": [
  {
   "cell_type": "code",
   "execution_count": 4,
   "metadata": {},
   "outputs": [
    {
     "name": "stdout",
     "output_type": "stream",
     "text": [
      "Todo Bien continuen con sus vidas\n"
     ]
    }
   ],
   "source": [
    "#vel= velocidad del asterioide\n",
    "vel=49\n",
    "if vel > 25:\n",
    "    print(\"CUIDADO VIENE UN ASTEROIDE HUYAAAAAAAAN!!!!\")\n",
    "else:\n",
    "    print(\"Todo Bien continuen con sus vidas\")"
   ]
  },
  {
   "cell_type": "code",
   "execution_count": 9,
   "metadata": {},
   "outputs": [
    {
     "name": "stdout",
     "output_type": "stream",
     "text": [
      "No pasa nada\n"
     ]
    }
   ],
   "source": [
    "vel=19\n",
    "if vel >20:\n",
    "    print(\"BUSCA UN RAYO DE LUZ EN EL CIELO\")\n",
    "elif vel ==20:\n",
    "    print(\"BUSCA UN RAYO DE LUZ EN EL CIELO\")\n",
    "else:\n",
    "    print(\"No pasa nada\")\n",
    "\n"
   ]
  },
  {
   "cell_type": "code",
   "execution_count": 16,
   "metadata": {},
   "outputs": [
    {
     "name": "stdout",
     "output_type": "stream",
     "text": [
      "Busca un rayo en el cielo\n"
     ]
    }
   ],
   "source": [
    "vel=25\n",
    "tam=40\n",
    "\n",
    "if vel > 25 and tam > 25:\n",
    "    print(\"HUYEEEEEEEEEEEEEEE!\")\n",
    "elif vel >=20:\n",
    "    print(\"Busca un rayo en el cielo\")\n",
    "elif tam<25:\n",
    "    print(\"No pasa nada\")\n",
    "else:\n",
    "    print(\"No pasa nada\")"
   ]
  }
 ],
 "metadata": {
  "interpreter": {
   "hash": "6395b4a33688d93f2d3d2144d2a622f1c7b53fa556508df9eb6bac4253fba3ec"
  },
  "kernelspec": {
   "display_name": "Python 3.8.8 ('base')",
   "language": "python",
   "name": "python3"
  },
  "language_info": {
   "codemirror_mode": {
    "name": "ipython",
    "version": 3
   },
   "file_extension": ".py",
   "mimetype": "text/x-python",
   "name": "python",
   "nbconvert_exporter": "python",
   "pygments_lexer": "ipython3",
   "version": "3.8.8"
  },
  "orig_nbformat": 4
 },
 "nbformat": 4,
 "nbformat_minor": 2
}
