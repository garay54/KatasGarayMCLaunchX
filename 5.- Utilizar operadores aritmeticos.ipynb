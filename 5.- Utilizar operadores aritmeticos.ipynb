{
 "cells": [
  {
   "cell_type": "code",
   "execution_count": 4,
   "metadata": {},
   "outputs": [
    {
     "name": "stdout",
     "output_type": "stream",
     "text": [
      "La distancia entre la tierra y jupiter son:  628949330 Kilometros\n",
      "Distancia entre tierra y jupiter en millas=  3905775339.3  Millas\n"
     ]
    }
   ],
   "source": [
    "dis_tierra= 149597870\n",
    "dis_jupiter= 778547200\n",
    "\n",
    "dis_tie_jupi= (abs(dis_tierra-dis_jupiter))\n",
    "\n",
    "print(\"La distancia entre la tierra y jupiter son: \",dis_tie_jupi, \"Kilometros\")\n",
    "print(\"Distancia entre tierra y jupiter en millas= \", dis_tie_jupi*6.21,\" Millas\")\n"
   ]
  },
  {
   "cell_type": "code",
   "execution_count": 11,
   "metadata": {},
   "outputs": [],
   "source": [
    "sol_1planeta = input(\"Escribe distancia entre el sol y el 1er planeta: \")\n",
    "sol_1planeta = int(sol_1planeta)\n",
    "sol_2planeta = input(\"Escribe distancia entre el sol y 2do planeta: \")\n",
    "sol_2planeta = int(sol_2planeta)"
   ]
  },
  {
   "cell_type": "code",
   "execution_count": 12,
   "metadata": {},
   "outputs": [
    {
     "name": "stdout",
     "output_type": "stream",
     "text": [
      "Distancia entre sol y el 1er planeta=  149597870\n",
      "Distancia entre sol y el 2do planeta=  778547200\n",
      "Distancia entre el 1er planeta y 2do planeta =  628949330  Kilomtetros\n",
      "Distancia entre el 1er planeta y 2do planeta en millas=  3905775339.3  Millas\n"
     ]
    }
   ],
   "source": [
    "displanet1_displanet2=abs(sol_2planeta-sol_1planeta)\n",
    "\n",
    "print(\"Distancia entre sol y el 1er planeta= \", sol_1planeta)\n",
    "print(\"Distancia entre sol y el 2do planeta= \", sol_2planeta)\n",
    "\n",
    "print(\"Distancia entre el 1er planeta y 2do planeta = \", displanet1_displanet2, \" Kilomtetros\")\n",
    "print(\"Distancia entre el 1er planeta y 2do planeta en millas= \", displanet1_displanet2*6.21,\" Millas\")"
   ]
  }
 ],
 "metadata": {
  "interpreter": {
   "hash": "6395b4a33688d93f2d3d2144d2a622f1c7b53fa556508df9eb6bac4253fba3ec"
  },
  "kernelspec": {
   "display_name": "Python 3.8.8 ('base')",
   "language": "python",
   "name": "python3"
  },
  "language_info": {
   "codemirror_mode": {
    "name": "ipython",
    "version": 3
   },
   "file_extension": ".py",
   "mimetype": "text/x-python",
   "name": "python",
   "nbconvert_exporter": "python",
   "pygments_lexer": "ipython3",
   "version": "3.8.8"
  },
  "orig_nbformat": 4
 },
 "nbformat": 4,
 "nbformat_minor": 2
}
